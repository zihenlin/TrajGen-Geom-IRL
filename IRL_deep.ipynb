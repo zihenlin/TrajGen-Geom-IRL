{
 "cells": [
  {
   "cell_type": "code",
   "execution_count": null,
   "id": "9717efc4-800a-4dcc-b46b-32c3a227648d",
   "metadata": {},
   "outputs": [],
   "source": [
    "import pandas as pd\n",
    "import numpy as np\n",
    "import geopandas as gpd\n",
    "import torch as t\n",
    "import os \n",
    "import pickle as pkl\n",
    "from scipy.spatial import distance_matrix\n",
    "import scipy\n",
    "from tqdm.notebook import tqdm\n",
    "\n",
    "from rewards import Perceptron, MLP, GCN, GRAPHCONV, plot_reward_correlation, plot_reward_spatial_patterns\n",
    "from causal_maxent import irl_causal,stochastic_value_iteration\n",
    "\n",
    "import warnings\n",
    "import osmnx as ox\n",
    "import contextily as cx\n",
    "import matplotlib.pylab as pylab\n",
    "import matplotlib.pyplot as plt\n",
    "import matplotlib as mpl\n",
    "from matplotlib_map_utils.core.scale_bar import ScaleBar, scale_bar\n",
    "from matplotlib_map_utils.core.north_arrow import NorthArrow, north_arrow\n",
    "import seaborn as sns\n",
    "\n",
    "import pyproj\n",
    "import math\n",
    "import geopandas as gpd\n",
    "from shapely import Point, LineString, Polygon\n",
    "\n",
    "\n",
    "from transitions import get_transition, plot_transition\n",
    "from trajectories import plot_trajectories, plot_trajectories_stats, generate_one_traj"
   ]
  },
  {
   "cell_type": "code",
   "execution_count": null,
   "id": "6ead4b86-7c0e-4ed6-bda3-9575e04e232f",
   "metadata": {},
   "outputs": [],
   "source": [
    "%load_ext autoreload\n",
    "%autoreload 2"
   ]
  },
  {
   "cell_type": "markdown",
   "id": "11dbfdee-a7f8-46c6-bef2-81e4778c237b",
   "metadata": {},
   "source": [
    "# Load Data"
   ]
  },
  {
   "cell_type": "markdown",
   "id": "4f6c9450-2884-4000-947f-d11d4ec84052",
   "metadata": {},
   "source": [
    "## Load Utils\n",
    "Extract indices of buildings of study areas"
   ]
  },
  {
   "cell_type": "code",
   "execution_count": null,
   "id": "61961e78-c65a-4473-97aa-e28ac70e6216",
   "metadata": {},
   "outputs": [],
   "source": [
    "# translation \n",
    "translation = pd.read_csv(\"data/uniq_id_translation_2.csv\", delimiter=\";\") "
   ]
  },
  {
   "cell_type": "code",
   "execution_count": null,
   "id": "c9a01f66-56c2-412a-abb3-32756b99dae8",
   "metadata": {},
   "outputs": [],
   "source": [
    "# discount factor for trajectory generation\n",
    "discount = pd.read_csv(\"data/discount_factor.csv\", usecols=[2,3])"
   ]
  },
  {
   "cell_type": "markdown",
   "id": "cfd746ed-0356-4e02-8b7e-f3cf5cb33cad",
   "metadata": {},
   "source": [
    "## Load buildings\n",
    "Extract buildings of study areas"
   ]
  },
  {
   "cell_type": "code",
   "execution_count": null,
   "id": "36f3802a-a2e7-48bd-ac7e-20a69680ce15",
   "metadata": {},
   "outputs": [],
   "source": [
    "buildings = pd.read_csv(\"data/jerusalem_buildings_USG_region.csv\", usecols=[2,3,4,8,9,13],index_col=0).loc[translation.UNIQ_ID.to_numpy()]\n",
    "buildings.floorspace = buildings.floorspace.fillna(buildings.floorspace.mean()) # fill in missing values with mean"
   ]
  },
  {
   "cell_type": "markdown",
   "id": "ed071bca-fab1-47f7-baf0-d5f1b32c9fba",
   "metadata": {},
   "source": [
    "# Transition Matrix\n",
    "Choose either simple gravity model or inverse euclidean distance"
   ]
  },
  {
   "cell_type": "code",
   "execution_count": null,
   "id": "3eb34cbe-4a79-4c6f-90af-167f017a33d5",
   "metadata": {},
   "outputs": [],
   "source": [
    "transition = get_transition(buildings=buildings, use_simple_gravity=True, density=0.1)"
   ]
  },
  {
   "cell_type": "code",
   "execution_count": null,
   "id": "6f312712-b70d-48c1-9076-b413d65ed858",
   "metadata": {},
   "outputs": [],
   "source": [
    "plot_transition(buildings=buildings, transitions=[transition.clone()], model_types=[\"Simple Gravity\"],ncols=1)"
   ]
  },
  {
   "cell_type": "markdown",
   "id": "505c7cb5-91cc-45eb-a4f9-a90539c2eeef",
   "metadata": {},
   "source": [
    "# Compute initial and terminal States"
   ]
  },
  {
   "cell_type": "code",
   "execution_count": null,
   "id": "e5e0f2f5-0b3c-405a-9b5c-7ce8a916c02b",
   "metadata": {},
   "outputs": [],
   "source": [
    "p_initial = t.ones(len(buildings)) / len(buildings)\n",
    "terminal = (t.tensor(buildings.USG_CODE.to_numpy()) < 3).nonzero().flatten()"
   ]
  },
  {
   "cell_type": "markdown",
   "id": "91006237-9c52-45ce-a611-e6cbf3accd20",
   "metadata": {},
   "source": [
    "# IRL"
   ]
  },
  {
   "cell_type": "code",
   "execution_count": null,
   "id": "e059aeef-30f8-4245-aed9-3db6136a7415",
   "metadata": {},
   "outputs": [],
   "source": [
    "'''Import generic feature matrix'''\n",
    "\n",
    "fm = t.tensor(pd.read_csv(\"data/IRL_feature_matrix.csv\", index_col=0).loc[translation.UNIQ_ID.to_numpy()].to_numpy()).float()\n",
    "initial_reward = fm.sum(1)"
   ]
  },
  {
   "cell_type": "markdown",
   "id": "3ba2d307-a1e9-4ecf-8dbf-d2392c48232f",
   "metadata": {},
   "source": [
    "## Linear"
   ]
  },
  {
   "cell_type": "code",
   "execution_count": null,
   "id": "12b5992d-4707-4542-b54c-95001c3b6573",
   "metadata": {},
   "outputs": [],
   "source": [
    "device = \"cpu\"\n",
    "seeds = range(1) \n",
    "perceptrons = [Perceptron(fm.shape[1], seed).to(device) for seed in seeds]\n",
    "lr = 8e-2  \n",
    "decay = 0\n",
    "optims = [t.optim.AdamW(perceptron.parameters(),lr, weight_decay=decay) for perceptron in perceptrons]\n",
    "\n",
    "linear_rewards = []\n",
    "linear_losses = []\n",
    "linear_maxeigvals = []\n",
    "for perceptron, optim in zip(perceptrons, optims):\n",
    "    linear_reward, linear_loss,linear_maxeigval = irl_causal(fm.to(device), perceptron,optim, transition.float().to(device).clone(), p_initial.to(device), terminal.to(device), n_epochs=300, device=device)\n",
    "    linear_rewards.append(linear_reward)\n",
    "    linear_losses.append(linear_loss)\n",
    "    linear_maxeigvals.append(linear_maxeigval)"
   ]
  },
  {
   "cell_type": "markdown",
   "id": "a5434a4f-af4a-4632-a83b-a4d4c48c26d7",
   "metadata": {},
   "source": [
    "## MLP"
   ]
  },
  {
   "cell_type": "code",
   "execution_count": null,
   "id": "ccfe1ab9-428b-4128-8c21-4a17740af034",
   "metadata": {},
   "outputs": [],
   "source": [
    "device = \"cpu\"\n",
    "seeds = range(1)\n",
    "mlps = [MLP(fm.shape[1], seed).to(device) for seed in seeds]\n",
    "lr = 4.5e-4\n",
    "decay = 0\n",
    "optims = [t.optim.AdamW(mlp.parameters(),lr, weight_decay=decay) for mlp in mlps]\n",
    "\n",
    "mlp_rewards = []\n",
    "mlp_losses = []\n",
    "mlp_maxeigvals = []\n",
    "\n",
    "for mlp, optim in zip(mlps, optims):\n",
    "    mlp_reward, mlp_loss,mlp_maxeigval = irl_causal(fm.to(device), mlp,optim, transition.float().to(device).clone(), p_initial.to(device), terminal.to(device), n_epochs=300, device=device)\n",
    "    mlp_rewards.append(mlp_reward)\n",
    "    mlp_losses.append(mlp_loss)\n",
    "    mlp_maxeigvals.append(mlp_maxeigval)"
   ]
  },
  {
   "cell_type": "markdown",
   "id": "294e2ac1-61a3-4b9c-af37-42f142eede6a",
   "metadata": {},
   "source": [
    "## GCN"
   ]
  },
  {
   "cell_type": "code",
   "execution_count": null,
   "id": "0d6f1646-eb7e-4e65-bc35-c533ae6988d9",
   "metadata": {},
   "outputs": [],
   "source": [
    "device = \"cpu\"\n",
    "\n",
    "seeds = range(1)\n",
    "transition = transition.float().to(device)\n",
    "gcns = [GCN(fm.shape[1], transition, seed).to(device) for seed in seeds]\n",
    "\n",
    "lr=8e-3\n",
    "decay=0\n",
    "optims = [t.optim.AdamW(gcn.parameters(),lr, weight_decay=decay) for gcn in gcns]\n",
    "\n",
    "gcn_rewards = []\n",
    "gcn_losses = []\n",
    "gcn_maxeigvals = []\n",
    "for gcn, optim in zip(gcns, optims):\n",
    "    gcn_reward, gcn_loss,gcn_maxeigval  = irl_causal(fm.to(device), gcn, optim,transition.clone(), p_initial.to(device), terminal.to(device), n_epochs=300, device=\"cpu\")\n",
    "    gcn_rewards.append(gcn_reward)\n",
    "    gcn_losses.append(gcn_loss)\n",
    "    gcn_maxeigvals.append(gcn_maxeigval)"
   ]
  },
  {
   "cell_type": "markdown",
   "id": "4bcae43c-4c13-4f93-ac57-8b582c08e2c7",
   "metadata": {},
   "source": [
    "## GraphConv"
   ]
  },
  {
   "cell_type": "code",
   "execution_count": null,
   "id": "5a63f442-d2d1-412b-a5b4-7051a557b4ee",
   "metadata": {},
   "outputs": [],
   "source": [
    "device = \"cpu\"\n",
    "\n",
    "seeds = range(1)\n",
    "transition = transition\n",
    "graphconvs = [GRAPHCONV(fm.shape[1], transition, seed).to(device) for seed in seeds]\n",
    "\n",
    "lr=8e-3\n",
    "decay=0\n",
    "optims = [t.optim.AdamW(graphconv.parameters(),lr, weight_decay=decay) for graphconv in graphconvs] \n",
    "\n",
    "graphconv_rewards = []\n",
    "graphconv_losses = []\n",
    "graphconv_maxeigvals = []\n",
    "for graphconv, optim in zip(graphconvs, optims):\n",
    "    graphconv_reward, graphconv_loss, graphconv_maxeigval  = irl_causal(fm.to(device), graphconv, optim,transition.clone(), p_initial.to(device), terminal.to(device), n_epochs=300, device=\"cpu\")\n",
    "    graphconv_rewards.append(graphconv_reward)\n",
    "    graphconv_losses.append(graphconv_loss)\n",
    "    graphconv_maxeigvals.append(graphconv_maxeigval)"
   ]
  },
  {
   "cell_type": "markdown",
   "id": "2ce0d9a8-54e9-469f-b753-33be615cdbee",
   "metadata": {},
   "source": [
    "# Analyse Reward"
   ]
  },
  {
   "cell_type": "code",
   "execution_count": null,
   "id": "4a107857-d412-4b0d-a733-5e366e6a326b",
   "metadata": {},
   "outputs": [],
   "source": [
    "normalize = lambda x : (x - x.min()) / (x.max() - x.min())"
   ]
  },
  {
   "cell_type": "code",
   "execution_count": null,
   "id": "e843323f-a4e4-4ecd-8131-8b2372fc0b6f",
   "metadata": {},
   "outputs": [],
   "source": [
    "normalized_linear = np.array([normalize(reward) for reward in linear_rewards])\n",
    "normalized_mlp = np.array([normalize(reward) for reward in mlp_rewards])\n",
    "normalized_gcn = np.array([normalize(reward) for reward in gcn_rewards])\n",
    "normalized_graphconv = np.array([normalize(reward) for reward in graphconv_rewards])\n",
    "\n",
    "normalized_linear_std = normalized_linear.std(0)\n",
    "normalized_linear = normalized_linear.mean(0)\n",
    "normalized_mlp_std = normalized_mlp.std(0)\n",
    "normalized_mlp = normalized_mlp.mean(0)\n",
    "normalized_gcn_std = normalized_gcn.std(0)\n",
    "normalized_gcn = normalized_gcn.mean(0)\n",
    "normalized_graphconv_std = normalized_graphconv.std(0)\n",
    "normalized_graphconv = normalized_graphconv.mean(0)"
   ]
  },
  {
   "cell_type": "code",
   "execution_count": null,
   "id": "cdeacffa-66b9-4f55-8390-8395cfc02bc3",
   "metadata": {},
   "outputs": [],
   "source": [
    "buildings[\"initial_reward\"] = (initial_reward - initial_reward.min()) / (initial_reward.max() - initial_reward.min())\n",
    "\n",
    "buildings[\"linear_reward\"] = normalized_linear\n",
    "buildings[\"linear_reward_std\"] = normalized_linear_std\n",
    "buildings[\"linear_diff\"] = (buildings[\"linear_reward\"] - buildings[\"initial_reward\"])\n",
    "\n",
    "buildings[\"mlp_reward\"] = normalized_mlp\n",
    "buildings[\"mlp_reward_std\"] = normalized_mlp_std\n",
    "buildings[\"mlp_diff\"] = (buildings[\"mlp_reward\"] - buildings[\"initial_reward\"])\n",
    "\n",
    "buildings[\"gcn_reward\"] = normalized_gcn\n",
    "buildings[\"gcn_reward_std\"] = normalized_gcn_std\n",
    "buildings[\"gcn_diff\"] = (buildings[\"gcn_reward\"] - buildings[\"initial_reward\"])\n",
    "\n",
    "buildings[\"graphconv_reward\"] = normalized_graphconv\n",
    "buildings[\"graphconv_reward_std\"] = normalized_graphconv_std\n",
    "buildings[\"graphconv_diff\"] = (buildings[\"graphconv_reward\"] - buildings[\"initial_reward\"])\n"
   ]
  },
  {
   "cell_type": "markdown",
   "id": "5a8769ae-0131-4db2-b935-59f2884138f5",
   "metadata": {},
   "source": [
    "### Rewards correlation"
   ]
  },
  {
   "cell_type": "code",
   "execution_count": null,
   "id": "a54828b4-b66f-4944-b0c3-ec14c97f3062",
   "metadata": {},
   "outputs": [],
   "source": [
    "buildings[\"connected\"] = transition.bool().sum(0).numpy()\n",
    "buildings[\"connected\"] = normalize(buildings[\"connected\"])\n",
    "buildings.floorspace = normalize(buildings.floorspace)\n",
    "\n",
    "# change buildings.floorspace to buildings[\"connected\"] for inverse euclidean transition matrix\n",
    "R_values = [scipy.stats.linregress(buildings.floorspace, buildings[item+\"_reward\"])[2] for item in [\"mlp\", \"linear\", \"gcn\", \"graphconv\"]]\n",
    "plot_reward_correlation(buildings, buildings.floorspace, \"Normalized Floorspace\",R_values)"
   ]
  },
  {
   "cell_type": "markdown",
   "id": "15ec934b-2ed4-42dd-b5d8-a916f8cc6b18",
   "metadata": {},
   "source": [
    "### Rewards Spatial Pattern"
   ]
  },
  {
   "cell_type": "code",
   "execution_count": null,
   "id": "d3448ee6-d9a3-4b49-8e7d-4abdf1ee1f58",
   "metadata": {},
   "outputs": [],
   "source": [
    "plot_reward_spatial_patterns(buildings)"
   ]
  },
  {
   "cell_type": "markdown",
   "id": "55e44cd8-aa7c-445c-a71a-12ae12601e0f",
   "metadata": {},
   "source": [
    "## Generate Trajectories"
   ]
  },
  {
   "cell_type": "code",
   "execution_count": null,
   "id": "19440033-751d-463e-9337-9615f0ec543a",
   "metadata": {},
   "outputs": [],
   "source": [
    "'''\n",
    "normal transition with normal reward\n",
    "'''\n",
    "policy_weight = 1\n",
    "normalize = lambda x : policy_weight * (x - x.min()) / (x.max() - x.min())\n",
    "\n",
    "linear_value = stochastic_value_iteration(transition, normalize(linear_rewards[0]), 0.1)\n",
    "linear_policy = transition * normalize(linear_value)\n",
    "linear_policy /= linear_policy.sum(1).reshape(-1,1)\n",
    "\n",
    "mlp_value = stochastic_value_iteration(transition, normalize(mlp_rewards[0]), 0.1)\n",
    "mlp_policy = transition * normalize(mlp_value)\n",
    "mlp_policy /= mlp_policy.sum(1).reshape(-1,1)\n",
    "\n",
    "gcn_value = stochastic_value_iteration(transition, normalize(gcn_rewards[0]), 0.1)\n",
    "gcn_policy = transition * normalize(gcn_value)\n",
    "gcn_policy /= gcn_policy.sum(1).reshape(-1,1)\n",
    "\n",
    "graphconv_value = stochastic_value_iteration(transition, normalize(graphconv_rewards[0]), 0.1)\n",
    "graphconv_policy = transition * normalize(graphconv_value)\n",
    "graphconv_policy /= graphconv_policy.sum(1).reshape(-1,1)"
   ]
  },
  {
   "cell_type": "code",
   "execution_count": null,
   "id": "a880e60f-fbdf-45d1-b422-2025ffa6b1f6",
   "metadata": {},
   "outputs": [],
   "source": [
    "policy_weight = 1\n",
    "normalize = lambda x : policy_weight * (x - x.min()) / (x.max() - x.min())\n",
    "\n",
    "linear_policy = transition * buildings.linear_reward.to_numpy()\n",
    "linear_policy /= linear_policy.sum(1).reshape(-1,1)\n",
    "\n",
    "mlp_policy = transition * buildings.mlp_reward.to_numpy()\n",
    "mlp_policy /= mlp_policy.sum(1).reshape(-1,1)\n",
    "\n",
    "gcn_policy = transition * buildings.gcn_reward.to_numpy()\n",
    "gcn_policy /= gcn_policy.sum(1).reshape(-1,1)\n",
    "\n",
    "graphconv_policy = transition * buildings.graphconv_reward.to_numpy()\n",
    "graphconv_policy /= graphconv_policy.sum(1).reshape(-1,1)"
   ]
  },
  {
   "cell_type": "code",
   "execution_count": null,
   "id": "504b4b12-c58c-4c4a-b3cf-ff5fa7e95649",
   "metadata": {},
   "outputs": [],
   "source": [
    "\"\"\"\n",
    "Change terminal state configuration in trajectories.py \n",
    "\"\"\"\n",
    "n_traj = 6567\n",
    "linear_traj = [generate_one_traj(linear_policy, terminal, discount.to_numpy(), buildings) for idx in tqdm(range(n_traj))]\n",
    "mlp_traj = [generate_one_traj(mlp_policy, terminal, discount.to_numpy(), buildings)for idx in tqdm(range(n_traj))]\n",
    "gcn_traj = [generate_one_traj(gcn_policy, terminal, discount.to_numpy(), buildings)for idx in tqdm(range(n_traj))]\n",
    "graphconv_traj = [generate_one_traj(graphconv_policy, terminal, discount.to_numpy(), buildings)for idx in tqdm(range(n_traj))]"
   ]
  },
  {
   "cell_type": "markdown",
   "id": "0dc46f2f-73e1-4a29-b120-644b2ba0ef0f",
   "metadata": {},
   "source": [
    "### Plot individual trajectories"
   ]
  },
  {
   "cell_type": "code",
   "execution_count": null,
   "id": "e5588e83-06f3-41a4-b570-ba875abf4095",
   "metadata": {},
   "outputs": [],
   "source": [
    "routines = [linear_traj, mlp_traj, gcn_traj, graphconv_traj]\n",
    "agent_indices = [1585,2047,3240,4000]\n",
    "plot_trajectories(buildings, routines, agent_indices, ncols=2)"
   ]
  },
  {
   "cell_type": "markdown",
   "id": "cc7d7e3e-e22d-4809-a83c-dde06969f8f3",
   "metadata": {},
   "source": [
    "### Plot trajectory stats"
   ]
  },
  {
   "cell_type": "code",
   "execution_count": null,
   "id": "612f0b50-4c0f-46ff-9e3e-70195549304f",
   "metadata": {},
   "outputs": [],
   "source": [
    "plot_trajectories_stats((linear_traj, mlp_traj, gcn_traj, graphconv_traj), buildings, \"Original\")"
   ]
  },
  {
   "cell_type": "markdown",
   "id": "05e0f768-6394-4060-87a0-cac7f9cfba31",
   "metadata": {},
   "source": [
    "# Hypothetical Scenarios"
   ]
  },
  {
   "cell_type": "markdown",
   "id": "b3377a22-f0b6-4030-bfc8-a7d502b5302a",
   "metadata": {},
   "source": [
    "## Reduced Boundaries"
   ]
  },
  {
   "cell_type": "code",
   "execution_count": null,
   "id": "336bfc6d-8dd8-4863-b9d7-c246f1917233",
   "metadata": {},
   "outputs": [],
   "source": [
    "\"\"\"\n",
    "Reduce study area\n",
    "\"\"\"\n",
    "gdf = gpd.GeoDataFrame(buildings,crs='EPSG:2039', geometry=gpd.points_from_xy(x=buildings.x, y=buildings.y)).to_crs(4326)\n",
    "x, y = pyproj.Transformer.from_crs(\"EPSG:2039\", 4326).transform(gdf.loc[:, \"x\"], gdf.loc[:, \"y\"])\n",
    "gdf.loc[:, \"x\"] = y\n",
    "gdf.loc[:, \"y\"] = x\n",
    "boundaries = gdf.total_bounds\n",
    "\n",
    "new_bounds = [35.209, 31.783, 35.218, 31.789]\n",
    "new_x_bounds = [35.209, 35.218]\n",
    "new_y_bounds = [31.783, 31.789]\n",
    "gdf_reset_index = gdf.reset_index()\n",
    "new_gdf = gdf_reset_index[(gdf_reset_index.x > new_x_bounds[0]) & (gdf_reset_index.x < new_x_bounds[1]) & (gdf_reset_index.y > new_y_bounds[0]) & (gdf_reset_index.y < new_y_bounds[1])]\n",
    "excluded = gdf.within(new_gdf.set_index(\"UNIQ_ID\"))"
   ]
  },
  {
   "cell_type": "code",
   "execution_count": null,
   "id": "1d470307-935c-4aeb-b196-56bf2046305e",
   "metadata": {},
   "outputs": [],
   "source": [
    "\"\"\"\n",
    "Plot reduced study area\n",
    "\"\"\"\n",
    "fig, axs = plt.subplots(1,1, dpi=300)\n",
    "gdf[\"excluded\"] = excluded\n",
    "gdf[\"excluded\"] = gdf[\"excluded\"].map({ True: \"Survived\",False: \"Excluded\"})\n",
    "colors = [\"Grey\", \"Red\"]\n",
    "gdf.plot(column=\"excluded\", markersize=10, ax=axs,cmap=mpl.colors.ListedColormap(colors),legend=True,legend_kwds={'loc': 'upper right',\"fontsize\":10, \"markerscale\":.5})\n",
    "axs.set_yticks([])\n",
    "axs.set_xticks([])\n",
    "buildings_osmnx = ox.geometries.geometries_from_bbox(31.78122826, 31.78975691, 35.20582386, 35.21960772, tags = {'building':True} )\n",
    "buildings_osmnx.plot(ax=axs,alpha=0.2, color=\"grey\")\n",
    "north_arrow(\n",
    "    axs, scale=.2, shadow=False, location=\"upper left\", rotation={\"crs\": new_gdf.crs, \"reference\": \"center\"}, label={\"position\": \"bottom\", \"text\": \"North\", \"fontsize\": 10})\n",
    "scale_bar(axs, location=\"lower center\", style=\"boxes\", bar={\"projection\": new_gdf.crs, \"major_div\": 1, \"max\":200,\n",
    "        \"minor_div\": 2,},labels={\"loc\": \"below\", \"style\": \"major\",\"fontsize\":10},units={\"loc\": \"bar\", \"fontsize\": 10}, )\n",
    "\n",
    "fig.tight_layout()\n",
    "plt.show()"
   ]
  },
  {
   "cell_type": "code",
   "execution_count": null,
   "id": "41bb56d6-e018-4f0d-91c7-969e164c082e",
   "metadata": {},
   "outputs": [],
   "source": [
    "'''\n",
    "new transition with reduced study area\n",
    "'''\n",
    "new_transitions = transition[new_gdf.index.to_list()][:,new_gdf.index.to_list()].numpy()\n",
    "new_transitions /= new_transitions.sum(1).reshape(-1,1)\n",
    "\n",
    "policy_weight = 1\n",
    "normalize = lambda x : policy_weight * (x - x.min()) / (x.max() - x.min())\n",
    "\n",
    "linear_value = stochastic_value_iteration(new_transitions, normalize(new_gdf.linear_reward), 0.1).to_numpy()\n",
    "linear_policy = t.tensor(new_transitions * normalize(linear_value))\n",
    "linear_policy /= linear_policy.sum(1).reshape(-1,1)\n",
    "\n",
    "mlp_value = stochastic_value_iteration(new_transitions, normalize(new_gdf.mlp_reward), 0.1).to_numpy()\n",
    "mlp_policy = t.tensor(new_transitions * normalize(mlp_value))\n",
    "mlp_policy /= mlp_policy.sum(1).reshape(-1,1)\n",
    "\n",
    "gcn_value = stochastic_value_iteration(new_transitions, normalize(new_gdf.gcn_reward), 0.1).to_numpy()\n",
    "gcn_policy = t.tensor(new_transitions * normalize(gcn_value))\n",
    "gcn_policy /= gcn_policy.sum(1).reshape(-1,1)\n",
    "\n",
    "graphconv_value = stochastic_value_iteration(new_transitions, normalize(new_gdf.graphconv_reward), 0.1).to_numpy()\n",
    "graphconv_policy = t.tensor(new_transitions * normalize(graphconv_value))\n",
    "graphconv_policy /= graphconv_policy.sum(1).reshape(-1,1)"
   ]
  },
  {
   "cell_type": "code",
   "execution_count": null,
   "id": "e539000e-a8a6-48ac-ae7d-a7ae7e043f77",
   "metadata": {},
   "outputs": [],
   "source": [
    "\"\"\"\n",
    "Change terminal state configuration in trajectories.py \n",
    "\"\"\"\n",
    "n_traj = 6567\n",
    "buildings_ = buildings.loc[new_gdf.UNIQ_ID]\n",
    "terminal_ = t.tensor((buildings_.USG_CODE < 3).to_numpy().flatten()).nonzero().flatten()\n",
    "\n",
    "linear_traj = [generate_one_traj(linear_policy, terminal_, discount.to_numpy(), buildings_) for idx in tqdm(range(n_traj))]\n",
    "mlp_traj = [generate_one_traj(mlp_policy, terminal_, discount.to_numpy(), buildings_)for idx in tqdm(range(n_traj))]\n",
    "gcn_traj = [generate_one_traj(gcn_policy, terminal_, discount.to_numpy(), buildings_)for idx in tqdm(range(n_traj))]\n",
    "graphconv_traj = [generate_one_traj(graphconv_policy, terminal_, discount.to_numpy(), buildings_)for idx in tqdm(range(n_traj))]"
   ]
  },
  {
   "cell_type": "code",
   "execution_count": null,
   "id": "73be0f26-31dd-4841-9b04-06c4d0c291fb",
   "metadata": {},
   "outputs": [],
   "source": [
    "plot_trajectories_stats((linear_traj, mlp_traj, gcn_traj, graphconv_traj), buildings_, \"Reduced Boundaries\")"
   ]
  },
  {
   "cell_type": "markdown",
   "id": "c7010130-5d34-43c4-bc1b-584d2668a177",
   "metadata": {},
   "source": [
    "## Random Removal"
   ]
  },
  {
   "cell_type": "code",
   "execution_count": null,
   "id": "050c8ba5-d37d-41af-8ed6-eb450fae60c3",
   "metadata": {},
   "outputs": [],
   "source": [
    "\"\"\"\n",
    "Earthquakes\n",
    "\"\"\"\n",
    "survived = np.random.choice(len(gdf),size=int(len(gdf) * 0.7), replace=False)\n",
    "new_gdf = gdf.iloc[survived].reset_index()\n",
    "excluded = gdf.within(new_gdf.set_index(\"UNIQ_ID\"))"
   ]
  },
  {
   "cell_type": "code",
   "execution_count": null,
   "id": "e8afb370-5968-4f6f-ae0b-220578b4a6be",
   "metadata": {},
   "outputs": [],
   "source": [
    "\"\"\"\n",
    "Plot reduced study area\n",
    "\"\"\"\n",
    "fig, axs = plt.subplots(1,1, dpi=300)\n",
    "gdf[\"excluded\"] = excluded\n",
    "gdf[\"excluded\"] = gdf[\"excluded\"].map({ True: \"Survived\",False: \"Excluded\"})\n",
    "colors = [\"Grey\", \"Red\"]\n",
    "gdf.plot(column=\"excluded\", markersize=10, ax=axs,cmap=mpl.colors.ListedColormap(colors),legend=True,legend_kwds={'loc': 'upper right',\"fontsize\":10, \"markerscale\":.5})\n",
    "axs.set_yticks([])\n",
    "axs.set_xticks([])\n",
    "buildings_osmnx = ox.geometries.geometries_from_bbox(31.78122826, 31.78975691, 35.20582386, 35.21960772, tags = {'building':True} )\n",
    "buildings_osmnx.plot(ax=axs,alpha=0.2, color=\"grey\")\n",
    "north_arrow(\n",
    "    axs, scale=.2, shadow=False, location=\"upper left\", rotation={\"crs\": new_gdf.crs, \"reference\": \"center\"}, label={\"position\": \"bottom\", \"text\": \"North\", \"fontsize\": 10})\n",
    "scale_bar(axs, location=\"lower center\", style=\"boxes\", bar={\"projection\": new_gdf.crs, \"major_div\": 1, \"max\":200,\n",
    "        \"minor_div\": 2,},labels={\"loc\": \"below\", \"style\": \"major\",\"fontsize\":10},units={\"loc\": \"bar\", \"fontsize\": 10}, )\n",
    "\n",
    "'''Remove ColorBar'''\n",
    "fig.tight_layout()\n",
    "plt.show()"
   ]
  },
  {
   "cell_type": "code",
   "execution_count": null,
   "id": "1325255b-6215-4fbf-a651-cb788cc0aff4",
   "metadata": {},
   "outputs": [],
   "source": [
    "'''\n",
    "new transition with reduced study area\n",
    "'''\n",
    "new_transitions = transition[new_gdf.index.to_list()][:,new_gdf.index.to_list()].numpy()\n",
    "new_transitions /= new_transitions.sum(1).reshape(-1,1)\n",
    "\n",
    "policy_weight = 1\n",
    "normalize = lambda x : policy_weight * (x - x.min()) / (x.max() - x.min())\n",
    "\n",
    "linear_value = stochastic_value_iteration(new_transitions, normalize(new_gdf.linear_reward), 0.1).to_numpy()\n",
    "linear_policy = t.tensor(new_transitions * normalize(linear_value))\n",
    "linear_policy /= linear_policy.sum(1).reshape(-1,1)\n",
    "\n",
    "mlp_value = stochastic_value_iteration(new_transitions, normalize(new_gdf.mlp_reward), 0.1).to_numpy()\n",
    "mlp_policy = t.tensor(new_transitions * normalize(mlp_value))\n",
    "mlp_policy /= mlp_policy.sum(1).reshape(-1,1)\n",
    "\n",
    "gcn_value = stochastic_value_iteration(new_transitions, normalize(new_gdf.gcn_reward), 0.1).to_numpy()\n",
    "gcn_policy = t.tensor(new_transitions * normalize(gcn_value))\n",
    "gcn_policy /= gcn_policy.sum(1).reshape(-1,1)\n",
    "\n",
    "graphconv_value = stochastic_value_iteration(new_transitions, normalize(new_gdf.graphconv_reward), 0.1).to_numpy()\n",
    "graphconv_policy = t.tensor(new_transitions * normalize(graphconv_value))\n",
    "graphconv_policy /= graphconv_policy.sum(1).reshape(-1,1)"
   ]
  },
  {
   "cell_type": "code",
   "execution_count": null,
   "id": "4681c9e0-ee39-4761-a027-e5dd45f8a9c3",
   "metadata": {},
   "outputs": [],
   "source": [
    "\"\"\"\n",
    "Change terminal state configuration in trajectories.py \n",
    "\"\"\"\n",
    "n_traj = 6567\n",
    "buildings_ = buildings.loc[new_gdf.UNIQ_ID]\n",
    "terminal_ = t.tensor((buildings_.USG_CODE < 3).to_numpy().flatten()).nonzero().flatten()\n",
    "\n",
    "linear_traj = [generate_one_traj(linear_policy, terminal_, discount.to_numpy(), buildings_) for idx in tqdm(range(n_traj))]\n",
    "mlp_traj = [generate_one_traj(mlp_policy, terminal_, discount.to_numpy(), buildings_)for idx in tqdm(range(n_traj))]\n",
    "gcn_traj = [generate_one_traj(gcn_policy, terminal_, discount.to_numpy(), buildings_)for idx in tqdm(range(n_traj))]\n",
    "graphconv_traj = [generate_one_traj(graphconv_policy, terminal_, discount.to_numpy(), buildings_)for idx in tqdm(range(n_traj))]"
   ]
  },
  {
   "cell_type": "code",
   "execution_count": null,
   "id": "c9f3f3a8-c264-4f03-9e69-1995001f1e33",
   "metadata": {},
   "outputs": [],
   "source": [
    "plot_trajectories_stats((linear_traj, mlp_traj, gcn_traj, graphconv_traj), buildings_, \"Random Removal\")"
   ]
  }
 ],
 "metadata": {
  "kernelspec": {
   "display_name": "Python 3 (ipykernel)",
   "language": "python",
   "name": "python3"
  },
  "language_info": {
   "codemirror_mode": {
    "name": "ipython",
    "version": 3
   },
   "file_extension": ".py",
   "mimetype": "text/x-python",
   "name": "python",
   "nbconvert_exporter": "python",
   "pygments_lexer": "ipython3",
   "version": "3.11.9"
  }
 },
 "nbformat": 4,
 "nbformat_minor": 5
}
